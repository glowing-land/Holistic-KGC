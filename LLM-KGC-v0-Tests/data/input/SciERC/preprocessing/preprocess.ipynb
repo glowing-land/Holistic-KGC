{
 "cells": [
  {
   "cell_type": "code",
   "execution_count": 1,
   "metadata": {},
   "outputs": [],
   "source": [
    "import json"
   ]
  },
  {
   "cell_type": "code",
   "execution_count": 2,
   "metadata": {},
   "outputs": [],
   "source": [
    "LLM_MODEL = 'g'\n",
    "\n",
    "for i in range(1, 101):\n",
    "    with open (f'kg_test_{i-1}.json', 'r') as f:\n",
    "        kg = json.load(f)\n",
    "\n",
    "    with open (f'../kg_test_{i}_{LLM_MODEL}.json', 'w') as f:\n",
    "        json.dump(kg, f, indent=2)"
   ]
  }
 ],
 "metadata": {
  "kernelspec": {
   "display_name": "kg",
   "language": "python",
   "name": "python3"
  },
  "language_info": {
   "codemirror_mode": {
    "name": "ipython",
    "version": 3
   },
   "file_extension": ".py",
   "mimetype": "text/x-python",
   "name": "python",
   "nbconvert_exporter": "python",
   "pygments_lexer": "ipython3",
   "version": "3.12.7"
  }
 },
 "nbformat": 4,
 "nbformat_minor": 2
}
