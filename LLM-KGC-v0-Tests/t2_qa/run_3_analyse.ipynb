{
 "cells": [
  {
   "cell_type": "code",
   "execution_count": 9,
   "metadata": {},
   "outputs": [],
   "source": [
    "import json\n",
    "import numpy as mp"
   ]
  },
  {
   "cell_type": "code",
   "execution_count": 10,
   "metadata": {},
   "outputs": [
    {
     "name": "stdout",
     "output_type": "stream",
     "text": [
      "Mean: 0.87\n",
      "Standard deviation: 0.098\n"
     ]
    }
   ],
   "source": [
    "INPUTS = \"../data/output/QA\"\n",
    "\n",
    "method = \"g\"\n",
    "llm = \"ablation\"\n",
    "\n",
    "scores = []\n",
    "\n",
    "for index in range(1, 6):\n",
    "    with open(f\"{INPUTS}/paper_{index}_{method}_{llm}.json\") as f:\n",
    "        data = json.load(f)\n",
    "\n",
    "    for qa in data:\n",
    "        scores.append(qa[\"similarity_score\"])\n",
    "\n",
    "print(f\"Mean: {mp.mean(scores):.2g}\")\n",
    "print(f\"Standard deviation: {mp.std(scores):.2g}\")"
   ]
  }
 ],
 "metadata": {
  "kernelspec": {
   "display_name": "kg",
   "language": "python",
   "name": "python3"
  },
  "language_info": {
   "codemirror_mode": {
    "name": "ipython",
    "version": 3
   },
   "file_extension": ".py",
   "mimetype": "text/x-python",
   "name": "python",
   "nbconvert_exporter": "python",
   "pygments_lexer": "ipython3",
   "version": "3.12.7"
  }
 },
 "nbformat": 4,
 "nbformat_minor": 2
}
