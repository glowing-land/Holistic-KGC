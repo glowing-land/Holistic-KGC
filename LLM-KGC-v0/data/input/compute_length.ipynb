{
 "cells": [
  {
   "cell_type": "code",
   "execution_count": 3,
   "metadata": {},
   "outputs": [],
   "source": [
    "import json\n",
    "import sys\n",
    "\n",
    "sys.path.append('../src/utilities')\n",
    "\n",
    "from content_processor import tokenise_text # type: ignore\n",
    "from paper_access import get_text # type: ignore\n"
   ]
  },
  {
   "cell_type": "code",
   "execution_count": 4,
   "metadata": {},
   "outputs": [
    {
     "name": "stdout",
     "output_type": "stream",
     "text": [
      "Paper Length: 1165\n",
      "Max Section Length: 270\n",
      "Max Paragraph Length: 270\n"
     ]
    }
   ],
   "source": [
    "dataset =\"test\"\n",
    "index = 1\n",
    "\n",
    "with open(f'kg_{dataset}_{index}.json') as f:\n",
    "    paper = json.load(f)\n",
    "\n",
    "paper_token = 0\n",
    "max_section_token = 0\n",
    "max_paragraph_token = 0\n",
    "\n",
    "for section in paper['sections']:\n",
    "    text = get_text(section)\n",
    "    tokens = tokenise_text(text)\n",
    "    if len(tokens) > max_section_token:\n",
    "        max_section_token = len(tokens)\n",
    "\n",
    "    paper_token += len(tokens)\n",
    "\n",
    "\n",
    "    for paragraph in section['paragraphs']:\n",
    "        text = get_text(paragraph)\n",
    "        tokens = tokenise_text(text)\n",
    "        if len(tokens) > max_paragraph_token:\n",
    "            max_paragraph_token = len(tokens)\n",
    "\n",
    "print(f\"Paper Length: {paper_token}\")\n",
    "print(f\"Max Section Length: {max_section_token}\")\n",
    "print(f\"Max Paragraph Length: {max_paragraph_token}\")"
   ]
  }
 ],
 "metadata": {
  "kernelspec": {
   "display_name": "kg",
   "language": "python",
   "name": "python3"
  },
  "language_info": {
   "codemirror_mode": {
    "name": "ipython",
    "version": 3
   },
   "file_extension": ".py",
   "mimetype": "text/x-python",
   "name": "python",
   "nbconvert_exporter": "python",
   "pygments_lexer": "ipython3",
   "version": "3.12.7"
  }
 },
 "nbformat": 4,
 "nbformat_minor": 2
}
